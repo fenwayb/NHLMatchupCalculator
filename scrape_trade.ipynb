{
 "cells": [
  {
   "cell_type": "code",
   "execution_count": 1,
   "metadata": {},
   "outputs": [],
   "source": [
    "# Import libraries\n",
    "import requests\n",
    "from bs4 import BeautifulSoup\n",
    "import pandas as pd\n",
    "import numpy as np"
   ]
  },
  {
   "cell_type": "code",
   "execution_count": 3,
   "metadata": {},
   "outputs": [
    {
     "data": {
      "text/html": [
       "<div>\n",
       "<style scoped>\n",
       "    .dataframe tbody tr th:only-of-type {\n",
       "        vertical-align: middle;\n",
       "    }\n",
       "\n",
       "    .dataframe tbody tr th {\n",
       "        vertical-align: top;\n",
       "    }\n",
       "\n",
       "    .dataframe thead th {\n",
       "        text-align: right;\n",
       "    }\n",
       "</style>\n",
       "<table border=\"1\" class=\"dataframe\">\n",
       "  <thead>\n",
       "    <tr style=\"text-align: right;\">\n",
       "      <th></th>\n",
       "      <th>Date</th>\n",
       "      <th>Team</th>\n",
       "      <th>Acquired</th>\n",
       "      <th>Relinquished</th>\n",
       "      <th>Notes</th>\n",
       "    </tr>\n",
       "  </thead>\n",
       "  <tbody>\n",
       "  </tbody>\n",
       "</table>\n",
       "</div>"
      ],
      "text/plain": [
       "Empty DataFrame\n",
       "Columns: [ Date,  Team,  Acquired,  Relinquished,  Notes]\n",
       "Index: []"
      ]
     },
     "execution_count": 3,
     "metadata": {},
     "output_type": "execute_result"
    }
   ],
   "source": [
    "# Create an URL object\n",
    "url = 'https://www.prosportstransactions.com/hockey/Search/SearchResults.php?Player=&Team=&BeginDate=2005-01-01&EndDate=2022-01-01&PlayerMovementChkBx=yes&submit=Search&start=0'\n",
    "# Create object page\n",
    "web = requests.get(url)\n",
    "\n",
    "# parser-lxml = Change html to Python friendly format\n",
    "# Obtain page's information\n",
    "soup = BeautifulSoup(web.text, 'html.parser')\n",
    "soup\n",
    "\n",
    "# Obtain information from tag <table>\n",
    "table1 = soup.find('tr', class_='DraftTableLabel')\n",
    "table1\n",
    "\n",
    "# Obtain every title of columns with tag <th>\n",
    "headers = []\n",
    "for i in table1.find_all('td'):\n",
    "    title = i.get_text()\n",
    "    headers.append(title)\n",
    "\n",
    "trades_df = pd.DataFrame(columns=headers)\n",
    "trades_df"
   ]
  },
  {
   "cell_type": "code",
   "execution_count": 4,
   "metadata": {},
   "outputs": [],
   "source": [
    "# Number of web pages to scrape\n",
    "pages = np.arange(start=0, stop=47250, step=25)\n",
    "\n",
    "\n",
    "for page in pages:\n",
    "    url = 'https://www.prosportstransactions.com/hockey/Search/SearchResults.php?Player=&Team=&BeginDate=2005-01-01&EndDate=2022-01-01&PlayerMovementChkBx=yes&submit=Search&start='+str(page)+''\n",
    "    web = requests.get(url)\n",
    "    soup = BeautifulSoup(web.text, 'html.parser')\n",
    "\n",
    "    table = soup.find(\"table\", class_=\"datatable center\")\n",
    "\n",
    "    for j in table.find_all('tr')[1:]:\n",
    "        row_data = j.find_all('td')\n",
    "        row = [i.text for i in row_data]\n",
    "        length = len(trades_df)\n",
    "        trades_df.loc[length] = row\n"
   ]
  },
  {
   "cell_type": "code",
   "execution_count": 6,
   "metadata": {},
   "outputs": [],
   "source": [
    "trades_df.to_csv('trades.csv', index=False)"
   ]
  },
  {
   "cell_type": "code",
   "execution_count": null,
   "metadata": {},
   "outputs": [],
   "source": []
  }
 ],
 "metadata": {
  "kernelspec": {
   "display_name": "Python 3.7.13 ('PythonData')",
   "language": "python",
   "name": "python3"
  },
  "language_info": {
   "codemirror_mode": {
    "name": "ipython",
    "version": 3
   },
   "file_extension": ".py",
   "mimetype": "text/x-python",
   "name": "python",
   "nbconvert_exporter": "python",
   "pygments_lexer": "ipython3",
   "version": "3.7.13"
  },
  "orig_nbformat": 4,
  "vscode": {
   "interpreter": {
    "hash": "826d1875f4175cbdf8278c845261cd773cee6da4051c5f1f41392bf09c516d66"
   }
  }
 },
 "nbformat": 4,
 "nbformat_minor": 2
}
