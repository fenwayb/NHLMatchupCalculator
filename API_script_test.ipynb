{
 "cells": [
  {
   "cell_type": "code",
   "execution_count": 2,
   "metadata": {},
   "outputs": [],
   "source": [
    "#import dependencies\n",
    "import pandas as pd\n",
    "import requests"
   ]
  },
  {
   "cell_type": "code",
   "execution_count": 2,
   "metadata": {},
   "outputs": [
    {
     "ename": "NameError",
     "evalue": "name 'requests' is not defined",
     "output_type": "error",
     "traceback": [
      "\u001b[1;31m---------------------------------------------------------------------------\u001b[0m",
      "\u001b[1;31mNameError\u001b[0m                                 Traceback (most recent call last)",
      "\u001b[1;32m~\\AppData\\Local\\Temp\\ipykernel_19608\\3840163265.py\u001b[0m in \u001b[0;36m<module>\u001b[1;34m\u001b[0m\n\u001b[0;32m      6\u001b[0m \u001b[1;31m# team converts to team id\u001b[0m\u001b[1;33m\u001b[0m\u001b[1;33m\u001b[0m\u001b[1;33m\u001b[0m\u001b[0m\n\u001b[0;32m      7\u001b[0m \u001b[0murl\u001b[0m \u001b[1;33m=\u001b[0m \u001b[1;34m\"https://statsapi.web.nhl.com/api/v1/teams/1/?expand=team.stats\"\u001b[0m\u001b[1;33m\u001b[0m\u001b[1;33m\u001b[0m\u001b[0m\n\u001b[1;32m----> 8\u001b[1;33m \u001b[0mtest\u001b[0m \u001b[1;33m=\u001b[0m \u001b[0mrequests\u001b[0m\u001b[1;33m.\u001b[0m\u001b[0mget\u001b[0m\u001b[1;33m(\u001b[0m\u001b[0murl\u001b[0m\u001b[1;33m)\u001b[0m\u001b[1;33m.\u001b[0m\u001b[0mjson\u001b[0m\u001b[1;33m(\u001b[0m\u001b[1;33m)\u001b[0m\u001b[1;33m\u001b[0m\u001b[1;33m\u001b[0m\u001b[0m\n\u001b[0m",
      "\u001b[1;31mNameError\u001b[0m: name 'requests' is not defined"
     ]
    }
   ],
   "source": [
    "# make api call\n",
    "# put data in table\n",
    "# check dtype\n",
    "\n",
    "#user input box looks for team\n",
    "# team converts to team id\n",
    "#feed team id into script\n",
    "url = \"https://statsapi.web.nhl.com/api/v1/teams/1/?expand=team.stats\"\n",
    "test = requests.get(url).json()"
   ]
  },
  {
   "cell_type": "code",
   "execution_count": 88,
   "metadata": {},
   "outputs": [],
   "source": [
    "#for loop where f\"https://statsapi.web.nhl.com/api/v1/teams/{}/?expand=team.stats\" is url\n",
    "#\n",
    "\n",
    "\n",
    "\n",
    "\n",
    "gamedata = []\n",
    "id = test['teams'][0]['teamStats'][0]['splits'][0]['team']['id']\n",
    "name = test['teams'][0]['teamStats'][0]['splits'][0]['team']['name']\n",
    "gpg = test['teams'][0]['teamStats'][0]['splits'][0]['stat']['goalsPerGame']\n",
    "gapg = test['teams'][0]['teamStats'][0]['splits'][0]['stat']['goalsAgainstPerGame']\n",
    "pppctg = test['teams'][0]['teamStats'][0]['splits'][0]['stat']['powerPlayPercentage']\n",
    "pkpctg = test['teams'][0]['teamStats'][0]['splits'][0]['stat']['penaltyKillPercentage']\n",
    "shots = test['teams'][0]['teamStats'][0]['splits'][0]['stat']['shotsPerGame']\n",
    "shotsallowed = test['teams'][0]['teamStats'][0]['splits'][0]['stat']['shotsAllowed']\n",
    "winoutshootopp = test['teams'][0]['teamStats'][0]['splits'][0]['stat']['winOutshootOpp']\n",
    "winoutshotbyopp = test['teams'][0]['teamStats'][0]['splits'][0]['stat']['winOutshotByOpp']\n",
    "faceoffpctg = test['teams'][0]['teamStats'][0]['splits'][0]['stat']['faceOffWinPercentage']\n",
    "shootingpctg = test['teams'][0]['teamStats'][0]['splits'][0]['stat']['shootingPctg']\n",
    "savepctg = test['teams'][0]['teamStats'][0]['splits'][0]['stat']['savePctg']\n",
    "gamedata.append({\"id\" : id,\n",
    "                 \"name\" : name,\n",
    "                 \"gpg\" : gpg,\n",
    "                 \"gapg\" : gapg,\n",
    "                 \"pppctg\" : pppctg,\n",
    "                 \"pkpctg\" : pkpctg,\n",
    "                 \"shots\" : shots,\n",
    "                 \"shotsallowed\" : shotsallowed,\n",
    "                 \"winoutshootopp\" : winoutshootopp,\n",
    "                 \"winoutshotbyopp\" : winoutshotbyopp,\n",
    "                 \"faceoffpctg\" : faceoffpctg,\n",
    "                 \"shootingpctg\" : shootingpctg,\n",
    "                 \"savepctg\" : savepctg})"
   ]
  },
  {
   "cell_type": "code",
   "execution_count": 89,
   "metadata": {},
   "outputs": [],
   "source": [
    "test_df = pd.DataFrame(gamedata)"
   ]
  },
  {
   "cell_type": "code",
   "execution_count": 90,
   "metadata": {},
   "outputs": [
    {
     "data": {
      "text/html": [
       "<div>\n",
       "<style scoped>\n",
       "    .dataframe tbody tr th:only-of-type {\n",
       "        vertical-align: middle;\n",
       "    }\n",
       "\n",
       "    .dataframe tbody tr th {\n",
       "        vertical-align: top;\n",
       "    }\n",
       "\n",
       "    .dataframe thead th {\n",
       "        text-align: right;\n",
       "    }\n",
       "</style>\n",
       "<table border=\"1\" class=\"dataframe\">\n",
       "  <thead>\n",
       "    <tr style=\"text-align: right;\">\n",
       "      <th></th>\n",
       "      <th>id</th>\n",
       "      <th>name</th>\n",
       "      <th>gpg</th>\n",
       "      <th>gapg</th>\n",
       "      <th>pppctg</th>\n",
       "      <th>pkpctg</th>\n",
       "      <th>shots</th>\n",
       "      <th>shotsallowed</th>\n",
       "      <th>winoutshootopp</th>\n",
       "      <th>winoutshotbyopp</th>\n",
       "      <th>faceoffpctg</th>\n",
       "      <th>shootingpctg</th>\n",
       "      <th>savepctg</th>\n",
       "    </tr>\n",
       "  </thead>\n",
       "  <tbody>\n",
       "    <tr>\n",
       "      <th>0</th>\n",
       "      <td>1</td>\n",
       "      <td>New Jersey Devils</td>\n",
       "      <td>3.667</td>\n",
       "      <td>2.583</td>\n",
       "      <td>20.0</td>\n",
       "      <td>86.8</td>\n",
       "      <td>39.0833</td>\n",
       "      <td>23.75</td>\n",
       "      <td>0.727</td>\n",
       "      <td>1.0</td>\n",
       "      <td>55.4</td>\n",
       "      <td>9.4</td>\n",
       "      <td>0.891</td>\n",
       "    </tr>\n",
       "  </tbody>\n",
       "</table>\n",
       "</div>"
      ],
      "text/plain": [
       "   id               name    gpg   gapg pppctg pkpctg    shots  shotsallowed  \\\n",
       "0   1  New Jersey Devils  3.667  2.583   20.0   86.8  39.0833         23.75   \n",
       "\n",
       "   winoutshootopp  winoutshotbyopp faceoffpctg  shootingpctg  savepctg  \n",
       "0           0.727              1.0        55.4           9.4     0.891  "
      ]
     },
     "execution_count": 90,
     "metadata": {},
     "output_type": "execute_result"
    }
   ],
   "source": [
    "test_df"
   ]
  },
  {
   "cell_type": "code",
   "execution_count": 91,
   "metadata": {},
   "outputs": [
    {
     "data": {
      "text/plain": [
       "id                   int64\n",
       "name                object\n",
       "gpg                float64\n",
       "gapg               float64\n",
       "pppctg              object\n",
       "pkpctg              object\n",
       "shots              float64\n",
       "shotsallowed       float64\n",
       "winoutshootopp     float64\n",
       "winoutshotbyopp    float64\n",
       "faceoffpctg         object\n",
       "shootingpctg       float64\n",
       "savepctg           float64\n",
       "dtype: object"
      ]
     },
     "execution_count": 91,
     "metadata": {},
     "output_type": "execute_result"
    }
   ],
   "source": [
    "test_df.dtypes"
   ]
  },
  {
   "cell_type": "code",
   "execution_count": 93,
   "metadata": {},
   "outputs": [
    {
     "data": {
      "text/plain": [
       "{'gamesPlayed': 12,\n",
       " 'wins': 9,\n",
       " 'losses': 3,\n",
       " 'ot': 0,\n",
       " 'pts': 18,\n",
       " 'ptPctg': '75.0',\n",
       " 'goalsPerGame': 3.667,\n",
       " 'goalsAgainstPerGame': 2.583,\n",
       " 'evGGARatio': 1.4545,\n",
       " 'powerPlayPercentage': '20.0',\n",
       " 'powerPlayGoals': 7.0,\n",
       " 'powerPlayGoalsAgainst': 5.0,\n",
       " 'powerPlayOpportunities': 35.0,\n",
       " 'penaltyKillPercentage': '86.8',\n",
       " 'shotsPerGame': 39.0833,\n",
       " 'shotsAllowed': 23.75,\n",
       " 'winScoreFirst': 0.625,\n",
       " 'winOppScoreFirst': 1.0,\n",
       " 'winLeadFirstPer': 0.8,\n",
       " 'winLeadSecondPer': 1.0,\n",
       " 'winOutshootOpp': 0.727,\n",
       " 'winOutshotByOpp': 1.0,\n",
       " 'faceOffsTaken': 699.0,\n",
       " 'faceOffsWon': 387.0,\n",
       " 'faceOffsLost': 312.0,\n",
       " 'faceOffWinPercentage': '55.4',\n",
       " 'shootingPctg': 9.4,\n",
       " 'savePctg': 0.891}"
      ]
     },
     "execution_count": 93,
     "metadata": {},
     "output_type": "execute_result"
    }
   ],
   "source": [
    "test['teams'][0]['teamStats'][0]['splits'][0]['stat']"
   ]
  },
  {
   "cell_type": "code",
   "execution_count": null,
   "metadata": {},
   "outputs": [],
   "source": []
  }
 ],
 "metadata": {
  "kernelspec": {
   "display_name": "Python 3.7.13 ('PythonData')",
   "language": "python",
   "name": "python3"
  },
  "language_info": {
   "codemirror_mode": {
    "name": "ipython",
    "version": 3
   },
   "file_extension": ".py",
   "mimetype": "text/x-python",
   "name": "python",
   "nbconvert_exporter": "python",
   "pygments_lexer": "ipython3",
   "version": "3.7.13"
  },
  "orig_nbformat": 4,
  "vscode": {
   "interpreter": {
    "hash": "b73af8b90e43458d75ffd2bf04f54cc03c74c3f81673c5dd0681908cb4ec687d"
   }
  }
 },
 "nbformat": 4,
 "nbformat_minor": 2
}
