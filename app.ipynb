{
 "cells": [
  {
   "cell_type": "code",
   "execution_count": 7,
   "metadata": {},
   "outputs": [],
   "source": [
    "#will convert to py when done\n",
    "#import dependencies\n",
    "from flask import Flask, render_template, redirect, request\n",
    "from pull import pull_all\n",
    "\n",
    "import requests\n"
   ]
  },
  {
   "cell_type": "code",
   "execution_count": 8,
   "metadata": {},
   "outputs": [
    {
     "name": "stdout",
     "output_type": "stream",
     "text": [
      " * Serving Flask app \"__main__\" (lazy loading)\n",
      " * Environment: production\n",
      "\u001b[31m   WARNING: This is a development server. Do not use it in a production deployment.\u001b[0m\n",
      "\u001b[2m   Use a production WSGI server instead.\u001b[0m\n",
      " * Debug mode: off\n"
     ]
    },
    {
     "name": "stderr",
     "output_type": "stream",
     "text": [
      " * Running on http://127.0.0.1:5000/ (Press CTRL+C to quit)\n"
     ]
    }
   ],
   "source": [
    "app = Flask(__name__)\n",
    "\n",
    "@app.route(\"/\")\n",
    "def index():\n",
    "   return render_template(\"index.html\")\n",
    "\n",
    "app.route(\"/pull\", method=[\"GET\", \"POST\"])\n",
    "def pull():\n",
    "   if request.method == 'GET':\n",
    "         home = id.home\n",
    "         away = id.away\n",
    "   home_df, away_df, results = pull_all(home, away)\n",
    "\n",
    "   if request.method == 'POST':\n",
    "   #POST stuff\n",
    "   #home_df to a table under home box\n",
    "   #away_df to a table under away box\n",
    "   #result to where ever we want it\n",
    "   \n",
    "   #return redirect('/', code=302)\n",
    "\n",
    "if __name__ == \"__main__\":\n",
    "    app.run()"
   ]
  },
  {
   "cell_type": "code",
   "execution_count": null,
   "metadata": {},
   "outputs": [],
   "source": []
  }
 ],
 "metadata": {
  "kernelspec": {
   "display_name": "Python 3.7.13 ('PythonData')",
   "language": "python",
   "name": "python3"
  },
  "language_info": {
   "codemirror_mode": {
    "name": "ipython",
    "version": 3
   },
   "file_extension": ".py",
   "mimetype": "text/x-python",
   "name": "python",
   "nbconvert_exporter": "python",
   "pygments_lexer": "ipython3",
   "version": "3.7.13"
  },
  "orig_nbformat": 4,
  "vscode": {
   "interpreter": {
    "hash": "b73af8b90e43458d75ffd2bf04f54cc03c74c3f81673c5dd0681908cb4ec687d"
   }
  }
 },
 "nbformat": 4,
 "nbformat_minor": 2
}
