{
 "cells": [
  {
   "cell_type": "code",
   "execution_count": 1,
   "metadata": {},
   "outputs": [],
   "source": [
    "# Segment Three Machine Learning Model\n",
    "# Initial version by Josh Stowe, Team Hansen Brothers, Final Capstone Project 202211/10"
   ]
  },
  {
   "cell_type": "code",
   "execution_count": 2,
   "metadata": {},
   "outputs": [],
   "source": [
    "# mlenv (Python 3.7.13)\n",
    "# Import dependencies\n",
    "import numpy as np\n",
    "import pandas as pd\n",
    "from pandas import DataFrame\n",
    "from pathlib import Path\n",
    "from collections import Counter\n",
    "from sklearn.metrics import balanced_accuracy_score\n",
    "from sklearn.metrics import confusion_matrix\n",
    "# from imblearn.metrics import classification_report_imbalanced\n",
    "from sklearn.preprocessing import StandardScaler\n",
    "from sklearn.preprocessing import MinMaxScaler\n",
    "from sklearn.model_selection import train_test_split\n",
    "# from sklearn.linear_model import LinearRegression\n",
    "from sklearn.linear_model import LogisticRegression\n",
    "from sklearn.metrics import confusion_matrix, classification_report\n",
    "# from sklearn.metrics import r2_score\n",
    "from sklearn.preprocessing import LabelEncoder\n",
    "import requests\n",
    "import pickle\n"
   ]
  },
  {
   "cell_type": "code",
   "execution_count": 3,
   "metadata": {},
   "outputs": [],
   "source": [
    "# # Load the game stats database for split, train, test\n",
    "# file_path = Path('Resources/game_teams_stats.csv')\n",
    "# df = pd.read_csv(file_path)\n",
    "# df.head()\n",
    "file_path = Path('Resources/ml_table_copy.csv')\n",
    "adv_df_og = pd.read_csv(file_path)\n",
    "adv_df = adv_df_og\n",
    "# adv_df_og.head()\n",
    "\n"
   ]
  },
  {
   "cell_type": "markdown",
   "metadata": {},
   "source": [
    "# Placeholder for preprocessing"
   ]
  },
  {
   "cell_type": "code",
   "execution_count": 4,
   "metadata": {},
   "outputs": [],
   "source": [
    "# adv_df.isna().sum()"
   ]
  },
  {
   "cell_type": "code",
   "execution_count": 5,
   "metadata": {},
   "outputs": [],
   "source": [
    "# preprocessing, TBC after db cleaning complete\n",
    "# merge dfs\n",
    "# adv_df = advanced_home_df.reset_index().join(advanced_away_df, on='game_id', lsuffix='home_', rsuffix='away_')\n",
    "\n",
    "# encode home_win true to 1, false to 0\n",
    "# Use LabelEncoder to convert 'M/F' into integer labels\n",
    "adv_df = adv_df_og\n",
    "adv_df['won_home'] = LabelEncoder().fit_transform(adv_df['won_home'])\n",
    "\n",
    "# drop columns not relevant\n",
    "adv_df = adv_df.drop(columns=\"won_away\")\n",
    "adv_df = adv_df.drop(columns=\"abbreviation_home\")\n",
    "adv_df = adv_df.drop(columns=\"abbreviation_away\")\n",
    "adv_df = adv_df.drop(columns=\"team_id_home\")\n",
    "adv_df = adv_df.drop(columns=\"team_id_away\")\n",
    "adv_df = adv_df.drop(columns=\"game_id\")\n",
    "adv_df = adv_df.drop(columns=\"goals_home\")\n",
    "adv_df = adv_df.drop(columns=\"goals_away\")\n",
    "\n",
    "\n",
    "# encode winoutshootopp_home, winoutshotopp_home, winoutshotbyopp_away, winoutshootbyopp_away true to 1, false to 0\n",
    "adv_df['winoutshootopp_home'] = LabelEncoder().fit_transform(adv_df['winoutshootopp_home'])\n",
    "adv_df['winoutshotbyopp_home'] = LabelEncoder().fit_transform(adv_df['winoutshotbyopp_home'])\n",
    "adv_df['winoutshootopp_away'] = LabelEncoder().fit_transform(adv_df['winoutshootopp_away'])\n",
    "adv_df['winoutshotbyopp_away'] = LabelEncoder().fit_transform(adv_df['winoutshotbyopp_away'])\n",
    "\n",
    "adv_df = adv_df.drop(columns=\"winoutshootopp_home\")\n",
    "adv_df = adv_df.drop(columns=\"winoutshotbyopp_home\")\n",
    "adv_df = adv_df.drop(columns=\"winoutshootopp_away\")\n",
    "adv_df = adv_df.drop(columns=\"winoutshotbyopp_away\")\n"
   ]
  },
  {
   "cell_type": "markdown",
   "metadata": {},
   "source": [
    "# Split the Data into Training and Testing"
   ]
  },
  {
   "cell_type": "code",
   "execution_count": 6,
   "metadata": {},
   "outputs": [],
   "source": [
    "# Create the features\n",
    "# adjust X df with the target features\n",
    "X = adv_df.drop(columns=\"won_home\")\n",
    "# X.head()"
   ]
  },
  {
   "cell_type": "code",
   "execution_count": 7,
   "metadata": {},
   "outputs": [],
   "source": [
    "# create the target\n",
    "y = adv_df[\"won_home\"]\n",
    "# y.head()"
   ]
  },
  {
   "cell_type": "code",
   "execution_count": 8,
   "metadata": {},
   "outputs": [],
   "source": [
    "# X.describe()"
   ]
  },
  {
   "cell_type": "code",
   "execution_count": 9,
   "metadata": {},
   "outputs": [],
   "source": [
    "# X.dtypes"
   ]
  },
  {
   "cell_type": "code",
   "execution_count": 10,
   "metadata": {},
   "outputs": [],
   "source": [
    "# Placeholder for column data type conversion"
   ]
  },
  {
   "cell_type": "code",
   "execution_count": 11,
   "metadata": {},
   "outputs": [],
   "source": [
    "# Create train, test datasets\n",
    "# Intention is to test sensitivity of test accuracy with the train/test size and select the split ratio that gives the \n",
    "# best accuracy prior to another sampling adjustments.\n",
    "# X_train, X_test, y_train, y_test = train_test_split(X, y)\n",
    "# X_train, X_test, y_train, y_test = train_test_split(X, y, stratify=y)\n",
    "\n",
    "# Optimized test_size parameter for implemented model\n",
    "# X_train, X_test, y_train, y_test = train_test_split(X, y,stratify=None, test_size=0.20)\n"
   ]
  },
  {
   "cell_type": "code",
   "execution_count": 12,
   "metadata": {},
   "outputs": [],
   "source": [
    "# X_train"
   ]
  },
  {
   "cell_type": "code",
   "execution_count": 13,
   "metadata": {},
   "outputs": [],
   "source": [
    "# X_test"
   ]
  },
  {
   "cell_type": "code",
   "execution_count": 14,
   "metadata": {},
   "outputs": [],
   "source": [
    "# y_train"
   ]
  },
  {
   "cell_type": "code",
   "execution_count": 15,
   "metadata": {},
   "outputs": [],
   "source": [
    "# y_test"
   ]
  },
  {
   "cell_type": "markdown",
   "metadata": {},
   "source": [
    "# Scaler Implementation"
   ]
  },
  {
   "cell_type": "code",
   "execution_count": 17,
   "metadata": {},
   "outputs": [],
   "source": [
    "# Placeholder for any scaler implementation NONE USED FOR IMPLEMENTED MODEL\n",
    "# Scale the dataset using MinMaxScaler()\n",
    "scaler = MinMaxScaler()\n",
    "X_scaled = MinMaxScaler().fit_transform(X)\n",
    "X_scaled = pd.DataFrame(X_scaled, columns = X.columns)\n",
    "\n",
    "# Scale the dataset using StandardScaler()\n",
    "# X_scaled = StandardScaler().fit_transform(X)\n",
    "\n",
    "X_train_scaled, X_test_scaled, y_train, y_test = train_test_split(X_scaled, y,stratify=None, test_size=0.20)"
   ]
  },
  {
   "cell_type": "markdown",
   "metadata": {},
   "source": [
    "# ML model"
   ]
  },
  {
   "cell_type": "code",
   "execution_count": 18,
   "metadata": {},
   "outputs": [
    {
     "name": "stdout",
     "output_type": "stream",
     "text": [
      "Training Data Score: 0.9467547609794015\n",
      "Testing Data Score: 0.9451476793248945\n"
     ]
    },
    {
     "data": {
      "text/html": [
       "<div>\n",
       "<style scoped>\n",
       "    .dataframe tbody tr th:only-of-type {\n",
       "        vertical-align: middle;\n",
       "    }\n",
       "\n",
       "    .dataframe tbody tr th {\n",
       "        vertical-align: top;\n",
       "    }\n",
       "\n",
       "    .dataframe thead th {\n",
       "        text-align: right;\n",
       "    }\n",
       "</style>\n",
       "<table border=\"1\" class=\"dataframe\">\n",
       "  <thead>\n",
       "    <tr style=\"text-align: right;\">\n",
       "      <th></th>\n",
       "      <th>Prediction</th>\n",
       "      <th>Actual</th>\n",
       "    </tr>\n",
       "  </thead>\n",
       "  <tbody>\n",
       "    <tr>\n",
       "      <th>2320</th>\n",
       "      <td>1</td>\n",
       "      <td>1</td>\n",
       "    </tr>\n",
       "    <tr>\n",
       "      <th>4759</th>\n",
       "      <td>1</td>\n",
       "      <td>1</td>\n",
       "    </tr>\n",
       "    <tr>\n",
       "      <th>6929</th>\n",
       "      <td>1</td>\n",
       "      <td>1</td>\n",
       "    </tr>\n",
       "    <tr>\n",
       "      <th>11685</th>\n",
       "      <td>0</td>\n",
       "      <td>0</td>\n",
       "    </tr>\n",
       "    <tr>\n",
       "      <th>9448</th>\n",
       "      <td>1</td>\n",
       "      <td>1</td>\n",
       "    </tr>\n",
       "    <tr>\n",
       "      <th>...</th>\n",
       "      <td>...</td>\n",
       "      <td>...</td>\n",
       "    </tr>\n",
       "    <tr>\n",
       "      <th>21133</th>\n",
       "      <td>0</td>\n",
       "      <td>1</td>\n",
       "    </tr>\n",
       "    <tr>\n",
       "      <th>14275</th>\n",
       "      <td>1</td>\n",
       "      <td>1</td>\n",
       "    </tr>\n",
       "    <tr>\n",
       "      <th>10706</th>\n",
       "      <td>1</td>\n",
       "      <td>1</td>\n",
       "    </tr>\n",
       "    <tr>\n",
       "      <th>6980</th>\n",
       "      <td>1</td>\n",
       "      <td>1</td>\n",
       "    </tr>\n",
       "    <tr>\n",
       "      <th>12715</th>\n",
       "      <td>1</td>\n",
       "      <td>1</td>\n",
       "    </tr>\n",
       "  </tbody>\n",
       "</table>\n",
       "<p>4503 rows × 2 columns</p>\n",
       "</div>"
      ],
      "text/plain": [
       "       Prediction  Actual\n",
       "2320            1       1\n",
       "4759            1       1\n",
       "6929            1       1\n",
       "11685           0       0\n",
       "9448            1       1\n",
       "...           ...     ...\n",
       "21133           0       1\n",
       "14275           1       1\n",
       "10706           1       1\n",
       "6980            1       1\n",
       "12715           1       1\n",
       "\n",
       "[4503 rows x 2 columns]"
      ]
     },
     "execution_count": 18,
     "metadata": {},
     "output_type": "execute_result"
    }
   ],
   "source": [
    "# LogisticRegression model, predicting a 1 or 0 outcome\n",
    "classifier = LogisticRegression()\n",
    "classifier\n",
    "\n",
    "classifier.fit(X_train_scaled, y_train)\n",
    "# classifier.fit(X_train_scaled, y_train)\n",
    "\n",
    "print(f\"Training Data Score: {classifier.score(X_train_scaled, y_train)}\")\n",
    "print(f\"Testing Data Score: {classifier.score(X_test_scaled, y_test)}\")\n",
    "\n",
    "# print(f\"Training Data Score: {classifier.score(X_train_scaled, y_train)}\")\n",
    "# print(f\"Testing Data Score: {classifier.score(X_test_scaled, y_test)}\")\n",
    "\n",
    "predictions = classifier.predict(X_test_scaled)\n",
    "pd.DataFrame({\"Prediction\": predictions, \"Actual\": y_test})\n"
   ]
  },
  {
   "cell_type": "markdown",
   "metadata": {},
   "source": [
    "# Confusion Matrix"
   ]
  },
  {
   "cell_type": "code",
   "execution_count": 19,
   "metadata": {},
   "outputs": [
    {
     "data": {
      "text/html": [
       "<div>\n",
       "<style scoped>\n",
       "    .dataframe tbody tr th:only-of-type {\n",
       "        vertical-align: middle;\n",
       "    }\n",
       "\n",
       "    .dataframe tbody tr th {\n",
       "        vertical-align: top;\n",
       "    }\n",
       "\n",
       "    .dataframe thead th {\n",
       "        text-align: right;\n",
       "    }\n",
       "</style>\n",
       "<table border=\"1\" class=\"dataframe\">\n",
       "  <thead>\n",
       "    <tr style=\"text-align: right;\">\n",
       "      <th></th>\n",
       "      <th>Predicted Home Loss</th>\n",
       "      <th>Predicted Home Win</th>\n",
       "    </tr>\n",
       "  </thead>\n",
       "  <tbody>\n",
       "    <tr>\n",
       "      <th>Actual Home Loss</th>\n",
       "      <td>1900</td>\n",
       "      <td>151</td>\n",
       "    </tr>\n",
       "    <tr>\n",
       "      <th>Actual Home Win</th>\n",
       "      <td>96</td>\n",
       "      <td>2356</td>\n",
       "    </tr>\n",
       "  </tbody>\n",
       "</table>\n",
       "</div>"
      ],
      "text/plain": [
       "                  Predicted Home Loss  Predicted Home Win\n",
       "Actual Home Loss                 1900                 151\n",
       "Actual Home Win                    96                2356"
      ]
     },
     "execution_count": 19,
     "metadata": {},
     "output_type": "execute_result"
    }
   ],
   "source": [
    "# Setup confusion matrix to show test outcomes vs predicted\n",
    "y_true = y_test\n",
    "y_pred = classifier.predict(X_test_scaled)\n",
    "cm = confusion_matrix(y_true, y_pred)\n",
    "\n",
    "# Create a DataFrame from the confusion matrix.\n",
    "cm_df = pd.DataFrame(\n",
    "    cm, index=[\"Actual Home Loss\", \"Actual Home Win\"], columns=[\"Predicted Home Loss\", \"Predicted Home Win\"])\n",
    "\n",
    "cm_df"
   ]
  },
  {
   "cell_type": "code",
   "execution_count": 20,
   "metadata": {},
   "outputs": [
    {
     "name": "stdout",
     "output_type": "stream",
     "text": [
      "Accuracy: 0.9451476793248945\n"
     ]
    }
   ],
   "source": [
    "# Calculate ML model accuracy\n",
    "tn, fp, fn, tp = confusion_matrix(y_true, y_pred).ravel()\n",
    "accuracy = (tp + tn) / (tp + fp + tn + fn)\n",
    "\n",
    "# Calculate the sensitivity of the model based on the confusion matrix\n",
    "sensitivity = tp / (tp + fn)\n",
    "\n",
    "# calculate precision\n",
    "precision = tp / (tp + fp)\n",
    "\n",
    "# calculate F1 score\n",
    "f1 = 2*precision*sensitivity / (precision + sensitivity)\n",
    "\n",
    "print(f\"Accuracy: {accuracy}\")"
   ]
  },
  {
   "cell_type": "code",
   "execution_count": 21,
   "metadata": {},
   "outputs": [
    {
     "data": {
      "image/png": "[encoded data removed]",
      "text/plain": [
       "<Figure size 432x288 with 1 Axes>"
      ]
     },
     "metadata": {
      "needs_background": "light"
     },
     "output_type": "display_data"
    }
   ],
   "source": [
    "# Feature Relative Importance\n",
    "from matplotlib import pyplot as plt\n",
    "feature_importance = abs(classifier.coef_[0])\n",
    "feature_importance = 100.0 * (feature_importance / feature_importance.max())\n",
    "\n",
    "sorted_index = np.argsort(feature_importance)\n",
    "pos = np.arange(sorted_index.shape[0]) + .5\n",
    "\n",
    "rel_fig = plt.figure()\n",
    "rel_fig_ax = rel_fig.add_subplot(1, 1, 1)\n",
    "rel_fig_ax.barh(pos, feature_importance[sorted_index], align='center')\n",
    "rel_fig_ax.set_yticks(pos)\n",
    "rel_fig_ax.set_yticklabels(np.array(X.columns)[sorted_index], fontsize=8)\n",
    "rel_fig_ax.set_xlabel('Relative Feature Importance')\n",
    "rel_fig_ax.set_ylabel('Feature')\n",
    "\n",
    "plt.tight_layout()   \n",
    "plt.show()"
   ]
  },
  {
   "cell_type": "code",
   "execution_count": 22,
   "metadata": {},
   "outputs": [
    {
     "data": {
      "image/png": "[encoded data removed]",
      "text/plain": [
       "<Figure size 432x288 with 1 Axes>"
      ]
     },
     "metadata": {
      "needs_background": "light"
     },
     "output_type": "display_data"
    }
   ],
   "source": [
    "# Feature  Importance\n",
    "feature_importance = abs(classifier.coef_[0])\n",
    "\n",
    "# sorted_index = np.arg(feature_importance)\n",
    "# pos = np.arange(sorted_index.shape[0]) + .5\n",
    "\n",
    "fig = plt.figure()\n",
    "fig_ax = fig.add_subplot(1, 1, 1)\n",
    "fig_ax.barh(pos, feature_importance, align='center')\n",
    "fig_ax.set_yticks(pos)\n",
    "fig_ax.set_yticklabels(np.array(X.columns), fontsize=8)\n",
    "fig_ax.set_xlabel('Feature Coefficient')\n",
    "fig_ax.set_ylabel('Feature')\n",
    "\n",
    "plt.tight_layout()   \n",
    "plt.show()"
   ]
  },
  {
   "cell_type": "markdown",
   "metadata": {},
   "source": [
    "# Predictions"
   ]
  },
  {
   "cell_type": "code",
   "execution_count": 24,
   "metadata": {},
   "outputs": [
    {
     "name": "stdout",
     "output_type": "stream",
     "text": [
      "Edmonton Oilers 1\n"
     ]
    }
   ],
   "source": [
    "# Model prediction with API\n",
    "away_id = 26\n",
    "home_id = 22\n",
    "\n",
    "# team API\n",
    "url = \"https://statsapi.web.nhl.com/api/v1/teams/\"+str(away_id)+\"/?expand=team.stats\"\n",
    "away = requests.get(url).json()\n",
    "\n",
    "# home team API\n",
    "url = \"https://statsapi.web.nhl.com/api/v1/teams/\"+str(home_id)+\"/?expand=team.stats\"\n",
    "home = requests.get(url).json()\n",
    "\n",
    "# compile data from jsons\n",
    "gamedata = []\n",
    "id = home['teams'][0]['teamStats'][0]['splits'][0]['team']['id']\n",
    "home_name = home['teams'][0]['teamStats'][0]['splits'][0]['team']['name']\n",
    "gpg = home['teams'][0]['teamStats'][0]['splits'][0]['stat']['goalsPerGame']\n",
    "gapg = home['teams'][0]['teamStats'][0]['splits'][0]['stat']['goalsAgainstPerGame']\n",
    "pppctg = home['teams'][0]['teamStats'][0]['splits'][0]['stat']['powerPlayPercentage']\n",
    "pkpctg = home['teams'][0]['teamStats'][0]['splits'][0]['stat']['penaltyKillPercentage']\n",
    "shots = home['teams'][0]['teamStats'][0]['splits'][0]['stat']['shotsPerGame']\n",
    "shotsallowed = home['teams'][0]['teamStats'][0]['splits'][0]['stat']['shotsAllowed']\n",
    "winoutshootopp = home['teams'][0]['teamStats'][0]['splits'][0]['stat']['winOutshootOpp']\n",
    "winoutshotbyopp = home['teams'][0]['teamStats'][0]['splits'][0]['stat']['winOutshotByOpp']\n",
    "faceoffpctg = home['teams'][0]['teamStats'][0]['splits'][0]['stat']['faceOffWinPercentage']\n",
    "shootingpctg = home['teams'][0]['teamStats'][0]['splits'][0]['stat']['shootingPctg']\n",
    "savepctg = home['teams'][0]['teamStats'][0]['splits'][0]['stat']['savePctg']\n",
    "gamedata.append({\n",
    "    # \"id\" : id,\n",
    "                  # \"name\" : name,\n",
    "                #  \"gpg\" : gpg,\n",
    "                #  \"gapg\" : gapg,\n",
    "                 \"powerPlayPrct_home\" : float(pppctg)/100,\n",
    "                 \"penaltyKillPrct_home\" : float(pkpctg)/100,\n",
    "                 \"shots_home\" : shots,\n",
    "                 \"shotsallowed_home\" : shotsallowed,\n",
    "                #  \"winoutshootopp\" : winoutshootopp,\n",
    "                #  \"winoutshotbyopp\" : winoutshotbyopp,\n",
    "                 \"faceOffWinPercentage_home\" : faceoffpctg,\n",
    "                 \"shootingPrct_home\" : float(shootingpctg)/100,\n",
    "                 \"savePrct_home\" : savepctg})\n",
    "home_df = pd.DataFrame(gamedata)\n",
    "# away data\n",
    "gamedata = []\n",
    "id = away['teams'][0]['teamStats'][0]['splits'][0]['team']['id']\n",
    "away_name = away['teams'][0]['teamStats'][0]['splits'][0]['team']['name']\n",
    "gpg = away['teams'][0]['teamStats'][0]['splits'][0]['stat']['goalsPerGame']\n",
    "gapg = away['teams'][0]['teamStats'][0]['splits'][0]['stat']['goalsAgainstPerGame']\n",
    "pppctg = away['teams'][0]['teamStats'][0]['splits'][0]['stat']['powerPlayPercentage']\n",
    "pkpctg = away['teams'][0]['teamStats'][0]['splits'][0]['stat']['penaltyKillPercentage']\n",
    "shots = away['teams'][0]['teamStats'][0]['splits'][0]['stat']['shotsPerGame']\n",
    "shotsallowed = away['teams'][0]['teamStats'][0]['splits'][0]['stat']['shotsAllowed']\n",
    "winoutshootopp = away['teams'][0]['teamStats'][0]['splits'][0]['stat']['winOutshootOpp']\n",
    "winoutshotbyopp = away['teams'][0]['teamStats'][0]['splits'][0]['stat']['winOutshotByOpp']\n",
    "faceoffpctg = away['teams'][0]['teamStats'][0]['splits'][0]['stat']['faceOffWinPercentage']\n",
    "shootingpctg = away['teams'][0]['teamStats'][0]['splits'][0]['stat']['shootingPctg']\n",
    "savepctg = away['teams'][0]['teamStats'][0]['splits'][0]['stat']['savePctg']\n",
    "gamedata.append({\n",
    "    # \"awayid\" : id,\n",
    "                #  \"awayname\" : name,\n",
    "                #  \"gpg\" : gpg,\n",
    "                #  \"gapg\" : gapg,\n",
    "                 \"powerPlayPrct_away\" : float(pppctg)/100,\n",
    "                 \"penaltyKillPrct_away\" : float(pkpctg)/100,\n",
    "                 \"shots_away\" : shots,\n",
    "                 \"shotsallowed_away\" : shotsallowed,\n",
    "                #  \"winoutshootopp\" : winoutshootopp,\n",
    "                #  \"winoutshotbyopp\" : winoutshotbyopp,\n",
    "                 \"faceOffWinPercentage_away\" : faceoffpctg,\n",
    "                 \"shootingPrct_away\" : float(shootingpctg)/100,\n",
    "                 \"savePrct_away\" : savepctg})\n",
    "away_df = pd.DataFrame(gamedata)\n",
    "# combine home and away current stats dataframes\n",
    "compiled_stats_df = pd.concat([home_df,away_df],axis=1)\n",
    "\n",
    "# scaler for use in ML model\n",
    "scaler = MinMaxScaler().fit(X)\n",
    "\n",
    "# X_scaled = MinMaxScaler().fit_transform(X)\n",
    "\n",
    "compiled_scaled_df = pd.DataFrame(scaler.transform(compiled_stats_df),columns = compiled_stats_df.columns)\n",
    "\n",
    "# compiled_scaled_df = minmax_scale(compiled_stats_df)\n",
    "\n",
    "# test_df = test_df.drop(columns=\"name\")\n",
    "# test_df = test_df.drop(columns=\"awayname\")\n",
    "prediction = classifier.predict(compiled_scaled_df)\n",
    "predicted_winner = home_name\n",
    "if int(prediction[0]) == 0:\n",
    "    predicted_winner = away_name\n",
    "  \n",
    "# pd.DataFrame({\"Prediction\": predicted_winner})\n",
    "print(predicted_winner, prediction[0])\n"
   ]
  },
  {
   "cell_type": "code",
   "execution_count": 25,
   "metadata": {},
   "outputs": [
    {
     "data": {
      "text/html": [
       "<div>\n",
       "<style scoped>\n",
       "    .dataframe tbody tr th:only-of-type {\n",
       "        vertical-align: middle;\n",
       "    }\n",
       "\n",
       "    .dataframe tbody tr th {\n",
       "        vertical-align: top;\n",
       "    }\n",
       "\n",
       "    .dataframe thead th {\n",
       "        text-align: right;\n",
       "    }\n",
       "</style>\n",
       "<table border=\"1\" class=\"dataframe\">\n",
       "  <thead>\n",
       "    <tr style=\"text-align: right;\">\n",
       "      <th></th>\n",
       "      <th>Prediction</th>\n",
       "    </tr>\n",
       "  </thead>\n",
       "  <tbody>\n",
       "    <tr>\n",
       "      <th>0</th>\n",
       "      <td>1</td>\n",
       "    </tr>\n",
       "  </tbody>\n",
       "</table>\n",
       "</div>"
      ],
      "text/plain": [
       "   Prediction\n",
       "0           1"
      ]
     },
     "execution_count": 25,
     "metadata": {},
     "output_type": "execute_result"
    }
   ],
   "source": [
    "pd.DataFrame({\"Prediction\": prediction})"
   ]
  },
  {
   "cell_type": "code",
   "execution_count": 26,
   "metadata": {},
   "outputs": [
    {
     "data": {
      "text/plain": [
       "'Edmonton Oilers'"
      ]
     },
     "execution_count": 26,
     "metadata": {},
     "output_type": "execute_result"
    }
   ],
   "source": [
    "home_name"
   ]
  },
  {
   "cell_type": "code",
   "execution_count": 27,
   "metadata": {},
   "outputs": [
    {
     "data": {
      "text/plain": [
       "'Los Angeles Kings'"
      ]
     },
     "execution_count": 27,
     "metadata": {},
     "output_type": "execute_result"
    }
   ],
   "source": [
    "away_name"
   ]
  },
  {
   "cell_type": "code",
   "execution_count": 28,
   "metadata": {},
   "outputs": [],
   "source": [
    "# scikit learn pickle export ML model for use\n",
    "# .sav file\n",
    "# save\n",
    "with open('HockeyMLmodel.pkl','wb') as f:\n",
    "    pickle.dump(classifier,f)\n",
    "\n",
    "# # load\n",
    "# with open('model.pkl', 'rb') as f:\n",
    "#     clf2 = pickle.load(f)\n",
    "\n",
    "# clf2.predict(X[0:1])"
   ]
  },
  {
   "cell_type": "code",
   "execution_count": null,
   "metadata": {},
   "outputs": [],
   "source": []
  }
 ],
 "metadata": {
  "kernelspec": {
   "display_name": "mlenv",
   "language": "python",
   "name": "mlenv"
  },
  "language_info": {
   "codemirror_mode": {
    "name": "ipython",
    "version": 3
   },
   "file_extension": ".py",
   "mimetype": "text/x-python",
   "name": "python",
   "nbconvert_exporter": "python",
   "pygments_lexer": "ipython3",
   "version": "3.7.13"
  },
  "orig_nbformat": 4,
  "vscode": {
   "interpreter": {
    "hash": "60e47acdd6708fa81f41555caf2561ae6efd5bd2191669431b85a92b47f5c295"
   }
  }
 },
 "nbformat": 4,
 "nbformat_minor": 2
}
